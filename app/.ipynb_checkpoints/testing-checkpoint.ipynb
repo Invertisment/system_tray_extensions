{
 "cells": [
  {
   "cell_type": "code",
   "execution_count": 1,
   "id": "2974b6e1",
   "metadata": {
    "ExecuteTime": {
     "end_time": "2021-09-14T15:17:06.148496Z",
     "start_time": "2021-09-14T15:17:06.058799Z"
    }
   },
   "outputs": [],
   "source": [
    "try:\n",
    "    if initialized:\n",
    "        print(\"Already initialized!\")\n",
    "except Exception:\n",
    "    import sys\n",
    "    sys.path.append('/home/salih/.local/lib/python3.8/site-packages')\n",
    "    \n",
    "    from pyspectator.processor import Cpu\n",
    "    from nvitop.core import Device\n",
    "    from time import sleep\n",
    "    import psutil\n",
    "    from ite8291r3_ctl import ite8291r3\n",
    "\n",
    "    gpu = Device(0)\n",
    "    ite = ite8291r3.get()\n",
    "\n",
    "    initialized = True"
   ]
  },
  {
   "cell_type": "code",
   "execution_count": 3,
   "id": "db8bc9a6",
   "metadata": {
    "ExecuteTime": {
     "end_time": "2021-09-14T15:24:22.040127Z",
     "start_time": "2021-09-14T15:24:22.035390Z"
    }
   },
   "outputs": [],
   "source": [
    "ite.set_effect(ite8291r3.effects[\"breathing\"]())"
   ]
  },
  {
   "cell_type": "code",
   "execution_count": 24,
   "id": "c8d84b3c",
   "metadata": {
    "ExecuteTime": {
     "end_time": "2021-09-14T15:38:11.076068Z",
     "start_time": "2021-09-14T15:38:11.037198Z"
    }
   },
   "outputs": [],
   "source": [
    "color_map = {}\n",
    "color = (255, 64, 0)\n",
    "\n",
    "for i in range(6):\n",
    "    color_map[(i,0)] = color\n",
    "    color_map[(i,17)] = color\n",
    "    \n",
    "for i in range(18):\n",
    "    color_map[(0,i)] = color\n",
    "    color_map[(5,i)] = color\n",
    "    \n",
    "ite.set_key_colors(color_map)\n",
    "ite.set_brightness(50)"
   ]
  },
  {
   "cell_type": "code",
   "execution_count": 79,
   "id": "6778da6b",
   "metadata": {
    "ExecuteTime": {
     "end_time": "2021-09-14T18:24:20.443049Z",
     "start_time": "2021-09-14T18:24:20.403990Z"
    }
   },
   "outputs": [],
   "source": [
    "color_map = {}\n",
    "\n",
    "color_map[(0,0)] = color\n",
    "color_map[(0,17)] = color\n",
    "color_map[(5,17)] = color\n",
    "color_map[(5,0)] = color\n",
    "    \n",
    "ite.set_key_colors(color_map)\n",
    "ite.set_brightness(50)"
   ]
  },
  {
   "cell_type": "code",
   "execution_count": 176,
   "id": "98fb6987",
   "metadata": {
    "ExecuteTime": {
     "end_time": "2021-09-14T19:12:23.666723Z",
     "start_time": "2021-09-14T19:12:23.622441Z"
    }
   },
   "outputs": [],
   "source": [
    "\n",
    "def keyconf_1(color_map={}, color1=(0,255,0), color2=(0,128,255), color3=(255,0,0), color4=(0,0,128)):\n",
    "    \n",
    "    # middle region\n",
    "    for i in range(5):\n",
    "        for j in range(15):\n",
    "            color_map[(i,j)] = color1\n",
    "           \n",
    "    # alpha numerics\n",
    "    for j in range(10):\n",
    "        color_map[(4,j+1)] = color2\n",
    "    for j in range(11):\n",
    "        color_map[(3,j+1)] = color2\n",
    "    for j in range(10):\n",
    "        color_map[(2,j+1)] = color2\n",
    "    for j in range(7):\n",
    "        color_map[(1,j+3)] = color2\n",
    "        \n",
    "    # right region\n",
    "    for i in range(6):\n",
    "        for j in range(3):\n",
    "            color_map[(i,j+15)] = color3\n",
    "            \n",
    "    # arrow keys\n",
    "    color_map[(0,13)] = color2\n",
    "    color_map[(0,14)] = color2\n",
    "    color_map[(0,15)] = color2\n",
    "    color_map[(1,14)] = color2\n",
    "    \n",
    "    # upper region\n",
    "    for j in range(15):\n",
    "        color_map[(5,j)] = color4\n",
    "\n",
    "    return color_map\n",
    "\n",
    "def keyconf_2(color_map={}):\n",
    "    \n",
    "    color1 = (0,255,0)\n",
    "    color2 = (0,128,255)\n",
    "    color3 = (255,0,0)\n",
    "    color4 = (0,0,128)\n",
    "    \n",
    "    # audio\n",
    "    color_map[(5,1)] = color1\n",
    "    color_map[(5,2)] = color1\n",
    "    color_map[(5,3)] = color1\n",
    "    \n",
    "    # brightness\n",
    "    color_map[(5,6)] = color2\n",
    "    color_map[(5,7)] = color2\n",
    "    \n",
    "    # right region\n",
    "    for i in range(3):\n",
    "        for j in range(3):\n",
    "            color_map[(i+1,j+15)] = color3\n",
    "    color_map[(0,16)] = color3\n",
    "\n",
    "    color_map[(5,17)] = color1\n",
    "    color_map[(5,16)] = color1\n",
    "    color_map[(4,16)] = color1\n",
    "    color_map[(4,17)] = color1\n",
    "\n",
    "    return color_map\n",
    "\n",
    "color_map = keyconf_1()\n",
    "ite.set_key_colors(color_map)\n",
    "ite.set_brightness(50)"
   ]
  },
  {
   "cell_type": "code",
   "execution_count": null,
   "id": "1c3bb7cd",
   "metadata": {},
   "outputs": [],
   "source": []
  },
  {
   "cell_type": "code",
   "execution_count": 43,
   "id": "5895dfb6",
   "metadata": {
    "ExecuteTime": {
     "end_time": "2021-09-14T16:03:50.544289Z",
     "start_time": "2021-09-14T16:03:40.246770Z"
    }
   },
   "outputs": [],
   "source": [
    "import time\n",
    "\n",
    "for i in range(50):\n",
    "    ite.set_brightness(0)\n",
    "    time.sleep(0.1)\n",
    "    ite.set_brightness(50)\n",
    "    time.sleep(0.1)"
   ]
  },
  {
   "cell_type": "code",
   "execution_count": 286,
   "id": "e8fe68d4",
   "metadata": {
    "ExecuteTime": {
     "end_time": "2021-09-14T22:02:43.958540Z",
     "start_time": "2021-09-14T22:02:43.911419Z"
    },
    "scrolled": false
   },
   "outputs": [],
   "source": [
    "from PIL import Image\n",
    "import numpy as np\n",
    "\n",
    "gamma_correction = (1.2, 3.0, 5.0)\n",
    "\n",
    "def create_empty_image(fill_value=(80,80,80)):\n",
    "    img = np.ones((6*20+7*5, 18*20+19*5, 3), dtype=np.uint8)*255\n",
    "\n",
    "    for i in range(7):\n",
    "        img[i*25:i*25+5, :] = fill_value\n",
    "\n",
    "    for j in range(19):\n",
    "        img[:, j*25:j*25+5] = fill_value\n",
    "\n",
    "    return img\n",
    "\n",
    "def image_to_color_map(img):\n",
    "    color_map = {}\n",
    "    for i in range(6):\n",
    "        for j in range(18):\n",
    "            color_map[(5-i,j)] = tuple(img[i*25+12, j*25+12])\n",
    "    return color_map\n",
    "\n",
    "def save_img(img):\n",
    "    img_ = Image.fromarray(img)\n",
    "    img_.save(\"myimage.png\", \"PNG\")\n",
    "\n",
    "def open_img():\n",
    "    img_ = Image.open(\"myimage2.png\")\n",
    "    img = np.array(img_, dtype=np.float32)[:,:,:3] / 255.0\n",
    "    img = img**gamma_correction\n",
    "    img = np.array(img*255, dtype=np.uint8)\n",
    "    return img\n",
    "\n",
    "      \n",
    "#img = create_empty_image()\n",
    "#save_img(img)\n",
    "\n",
    "img = open_img()\n",
    "color_map = image_to_color_map(img)\n",
    "ite.set_key_colors(color_map)"
   ]
  },
  {
   "cell_type": "code",
   "execution_count": null,
   "id": "848bf9cb",
   "metadata": {},
   "outputs": [],
   "source": []
  }
 ],
 "metadata": {
  "kernelspec": {
   "display_name": "Python 3 (pytorch)",
   "language": "python",
   "name": "pytorch"
  },
  "language_info": {
   "codemirror_mode": {
    "name": "ipython",
    "version": 3
   },
   "file_extension": ".py",
   "mimetype": "text/x-python",
   "name": "python",
   "nbconvert_exporter": "python",
   "pygments_lexer": "ipython3",
   "version": "3.9.6"
  },
  "toc": {
   "base_numbering": 1,
   "nav_menu": {},
   "number_sections": true,
   "sideBar": true,
   "skip_h1_title": false,
   "title_cell": "Table of Contents",
   "title_sidebar": "Contents",
   "toc_cell": false,
   "toc_position": {},
   "toc_section_display": true,
   "toc_window_display": false
  }
 },
 "nbformat": 4,
 "nbformat_minor": 5
}
